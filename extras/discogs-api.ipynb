{
 "cells": [
  {
   "cell_type": "code",
   "execution_count": 1,
   "metadata": {
    "ExecuteTime": {
     "end_time": "2020-01-20T14:43:17.356793Z",
     "start_time": "2020-01-20T14:43:15.880408Z"
    }
   },
   "outputs": [],
   "source": [
    "import discogs_client\n",
    "from datetime import datetime\n",
    "import pandas as pd\n",
    "import requests\n",
    "from requests_oauthlib import OAuth1Session\n",
    "import sys\n"
   ]
  },
  {
   "cell_type": "code",
   "execution_count": 2,
   "metadata": {
    "ExecuteTime": {
     "end_time": "2020-01-20T14:43:19.843438Z",
     "start_time": "2020-01-20T14:43:19.836841Z"
    }
   },
   "outputs": [],
   "source": [
    "consumer_key = 'RxDrRNzngcGvYVYfvPzj'"
   ]
  },
  {
   "cell_type": "code",
   "execution_count": 3,
   "metadata": {
    "ExecuteTime": {
     "end_time": "2020-01-20T14:43:21.975953Z",
     "start_time": "2020-01-20T14:43:21.966849Z"
    }
   },
   "outputs": [],
   "source": [
    "consumer_secret = 'emqEsqpTlbfobUocxmGUeRjejDSBLDvf'"
   ]
  },
  {
   "cell_type": "markdown",
   "metadata": {},
   "source": [
    "#### Token only"
   ]
  },
  {
   "cell_type": "code",
   "execution_count": 4,
   "metadata": {
    "ExecuteTime": {
     "end_time": "2020-01-20T14:43:27.478954Z",
     "start_time": "2020-01-20T14:43:26.964620Z"
    }
   },
   "outputs": [
    {
     "data": {
      "text/plain": [
       "1"
      ]
     },
     "execution_count": 4,
     "metadata": {},
     "output_type": "execute_result"
    }
   ],
   "source": [
    "my_token = 'qWWOJDNRdaNTWzBVDqzIGdYgbYWYEDgbBczVmGwS'\n",
    "d = discogs_client.Client('test', user_token=my_token)\n",
    "results = d.search('Kettenkarussell', type='artist')\n",
    "results.pages"
   ]
  },
  {
   "cell_type": "code",
   "execution_count": 7,
   "metadata": {
    "ExecuteTime": {
     "end_time": "2020-01-20T14:45:34.344546Z",
     "start_time": "2020-01-20T14:45:34.340688Z"
    }
   },
   "outputs": [],
   "source": [
    "d = discogs_client.Client('ExampleApplication/0.1')\n"
   ]
  },
  {
   "cell_type": "code",
   "execution_count": 8,
   "metadata": {
    "ExecuteTime": {
     "end_time": "2020-01-20T14:46:18.420689Z",
     "start_time": "2020-01-20T14:46:18.415665Z"
    }
   },
   "outputs": [],
   "source": [
    "d.set_consumer_key('RxDrRNzngcGvYVYfvPzj', 'emqEsqpTlbfobUocxmGUeRjejDSBLDvf')\n"
   ]
  },
  {
   "cell_type": "code",
   "execution_count": 10,
   "metadata": {
    "ExecuteTime": {
     "end_time": "2020-01-20T14:47:32.250392Z",
     "start_time": "2020-01-20T14:47:32.245369Z"
    },
    "run_control": {
     "marked": false
    }
   },
   "outputs": [],
   "source": [
    "rel = d.release(3771181)"
   ]
  },
  {
   "cell_type": "code",
   "execution_count": 11,
   "metadata": {
    "ExecuteTime": {
     "end_time": "2020-01-20T14:47:38.207287Z",
     "start_time": "2020-01-20T14:47:38.198271Z"
    }
   },
   "outputs": [
    {
     "data": {
      "text/plain": [
       "[<Artist 48865 'Kool & The Gang'>]"
      ]
     },
     "execution_count": 11,
     "metadata": {},
     "output_type": "execute_result"
    }
   ],
   "source": [
    "rel.artists"
   ]
  },
  {
   "cell_type": "code",
   "execution_count": 5,
   "metadata": {
    "ExecuteTime": {
     "end_time": "2020-01-20T14:43:30.848802Z",
     "start_time": "2020-01-20T14:43:30.841944Z"
    }
   },
   "outputs": [],
   "source": [
    "artist = results[0]\n"
   ]
  },
  {
   "cell_type": "code",
   "execution_count": 6,
   "metadata": {
    "ExecuteTime": {
     "end_time": "2020-01-20T14:43:32.323425Z",
     "start_time": "2020-01-20T14:43:32.315946Z"
    }
   },
   "outputs": [
    {
     "data": {
      "text/plain": [
       "'Kettenkarussell'"
      ]
     },
     "execution_count": 6,
     "metadata": {},
     "output_type": "execute_result"
    }
   ],
   "source": [
    "artist.name"
   ]
  },
  {
   "cell_type": "code",
   "execution_count": 12,
   "metadata": {
    "ExecuteTime": {
     "end_time": "2020-01-20T16:45:04.024347Z",
     "start_time": "2020-01-20T16:45:03.565746Z"
    }
   },
   "outputs": [
    {
     "data": {
      "text/plain": [
       "<Release 15924 'Point Blank'>"
      ]
     },
     "execution_count": 12,
     "metadata": {},
     "output_type": "execute_result"
    }
   ],
   "source": [
    "d.release(15924)"
   ]
  },
  {
   "cell_type": "code",
   "execution_count": 9,
   "metadata": {
    "ExecuteTime": {
     "end_time": "2020-01-13T02:36:21.286474Z",
     "start_time": "2020-01-13T02:36:21.278757Z"
    }
   },
   "outputs": [],
   "source": [
    "usr = d.search('pinkychukkles', type='user')"
   ]
  },
  {
   "cell_type": "code",
   "execution_count": 10,
   "metadata": {
    "ExecuteTime": {
     "end_time": "2020-01-13T02:36:22.147669Z",
     "start_time": "2020-01-13T02:36:21.684831Z"
    }
   },
   "outputs": [
    {
     "data": {
      "text/plain": [
       "76"
      ]
     },
     "execution_count": 10,
     "metadata": {},
     "output_type": "execute_result"
    }
   ],
   "source": [
    "usr.pages"
   ]
  },
  {
   "cell_type": "code",
   "execution_count": null,
   "metadata": {},
   "outputs": [],
   "source": [
    "/users/{username}/collection/folders\n"
   ]
  },
  {
   "cell_type": "code",
   "execution_count": 40,
   "metadata": {
    "ExecuteTime": {
     "end_time": "2020-01-13T02:56:05.611018Z",
     "start_time": "2020-01-13T02:56:05.605145Z"
    }
   },
   "outputs": [
    {
     "data": {
      "text/plain": [
       "<Release 698647 'The Rolling Stones - The Last Time'>"
      ]
     },
     "execution_count": 40,
     "metadata": {},
     "output_type": "execute_result"
    }
   ],
   "source": [
    "usr[75]`"
   ]
  },
  {
   "cell_type": "markdown",
   "metadata": {},
   "source": [
    "using requests"
   ]
  },
  {
   "cell_type": "code",
   "execution_count": 30,
   "metadata": {
    "ExecuteTime": {
     "end_time": "2020-01-21T04:00:59.978774Z",
     "start_time": "2020-01-21T04:00:59.620126Z"
    }
   },
   "outputs": [],
   "source": [
    "user_resp = requests.get('https://api.discogs.com/users/pinkychukkles/collection/folders')"
   ]
  },
  {
   "cell_type": "code",
   "execution_count": 31,
   "metadata": {
    "ExecuteTime": {
     "end_time": "2020-01-21T04:01:02.732703Z",
     "start_time": "2020-01-21T04:01:02.723924Z"
    }
   },
   "outputs": [
    {
     "data": {
      "text/plain": [
       "'{\"message\": \"You must authenticate to access this resource.\"}'"
      ]
     },
     "execution_count": 31,
     "metadata": {},
     "output_type": "execute_result"
    }
   ],
   "source": [
    "user_resp.text"
   ]
  },
  {
   "cell_type": "code",
   "execution_count": 35,
   "metadata": {
    "ExecuteTime": {
     "end_time": "2020-01-13T02:51:53.253272Z",
     "start_time": "2020-01-13T02:51:53.243612Z"
    }
   },
   "outputs": [],
   "source": [
    "user_response = user_resp.json()"
   ]
  },
  {
   "cell_type": "code",
   "execution_count": 36,
   "metadata": {
    "ExecuteTime": {
     "end_time": "2020-01-13T02:51:55.030461Z",
     "start_time": "2020-01-13T02:51:55.023273Z"
    }
   },
   "outputs": [
    {
     "data": {
      "text/plain": [
       "dict"
      ]
     },
     "execution_count": 36,
     "metadata": {},
     "output_type": "execute_result"
    }
   ],
   "source": [
    "type(user_response)"
   ]
  },
  {
   "cell_type": "code",
   "execution_count": 34,
   "metadata": {
    "ExecuteTime": {
     "end_time": "2020-01-13T02:51:47.743515Z",
     "start_time": "2020-01-13T02:51:47.733659Z"
    }
   },
   "outputs": [
    {
     "data": {
      "text/plain": [
       "dict_keys(['pagination', 'lists'])"
      ]
     },
     "execution_count": 34,
     "metadata": {},
     "output_type": "execute_result"
    }
   ],
   "source": [
    "user_resp.json().keys()"
   ]
  },
  {
   "cell_type": "code",
   "execution_count": 37,
   "metadata": {
    "ExecuteTime": {
     "end_time": "2020-01-13T02:52:13.980154Z",
     "start_time": "2020-01-13T02:52:13.974087Z"
    }
   },
   "outputs": [
    {
     "data": {
      "text/plain": [
       "{'per_page': 50, 'items': 5, 'page': 1, 'urls': {}, 'pages': 1}"
      ]
     },
     "execution_count": 37,
     "metadata": {},
     "output_type": "execute_result"
    }
   ],
   "source": [
    "user_response['pagination']"
   ]
  },
  {
   "cell_type": "code",
   "execution_count": 38,
   "metadata": {
    "ExecuteTime": {
     "end_time": "2020-01-13T02:52:24.929475Z",
     "start_time": "2020-01-13T02:52:24.913510Z"
    }
   },
   "outputs": [
    {
     "data": {
      "text/plain": [
       "[{'resource_url': 'https://api.discogs.com/lists/169689',\n",
       "  'public': True,\n",
       "  'image_url': '',\n",
       "  'user': {'username': 'pinkychukkles',\n",
       "   'resource_url': 'https://api.discogs.com/users/pinkychukkles',\n",
       "   'avatar_url': 'https://secure.gravatar.com/avatar/f4a3dbf1c964a72b848d6e13522b6d29?s=500&r=pg&d=mm',\n",
       "   'id': 7141},\n",
       "  'date_changed': '2013-05-25T04:54:58-07:00',\n",
       "  'date_added': '2013-05-24T15:07:03-07:00',\n",
       "  'description': 'The best deep house mixtape in the world... probably.',\n",
       "  'uri': 'https://www.discogs.com/lists/LTJ-Bukem-Mellow/169689',\n",
       "  'id': 169689,\n",
       "  'name': 'LTJ Bukem - Mellow'},\n",
       " {'resource_url': 'https://api.discogs.com/lists/158071',\n",
       "  'public': True,\n",
       "  'image_url': '',\n",
       "  'user': {'username': 'pinkychukkles',\n",
       "   'resource_url': 'https://api.discogs.com/users/pinkychukkles',\n",
       "   'avatar_url': 'https://secure.gravatar.com/avatar/f4a3dbf1c964a72b848d6e13522b6d29?s=500&r=pg&d=mm',\n",
       "   'id': 7141},\n",
       "  'date_changed': '2013-01-09T06:55:20-08:00',\n",
       "  'date_added': '2013-01-09T06:42:44-08:00',\n",
       "  'description': 'Mix available to listen/download from: http://www.tiptopmusic.com/pinky/ruminations',\n",
       "  'uri': 'https://www.discogs.com/lists/MIX-Ruminations/158071',\n",
       "  'id': 158071,\n",
       "  'name': 'MIX: Ruminations'},\n",
       " {'resource_url': 'https://api.discogs.com/lists/157337',\n",
       "  'public': True,\n",
       "  'image_url': '',\n",
       "  'user': {'username': 'pinkychukkles',\n",
       "   'resource_url': 'https://api.discogs.com/users/pinkychukkles',\n",
       "   'avatar_url': 'https://secure.gravatar.com/avatar/f4a3dbf1c964a72b848d6e13522b6d29?s=500&r=pg&d=mm',\n",
       "   'id': 7141},\n",
       "  'date_changed': '2013-01-09T06:55:11-08:00',\n",
       "  'date_added': '2012-12-31T01:58:41-08:00',\n",
       "  'description': 'Mix available to listen/download from: http://www.tiptopmusic.com/pinky/marinading-beats',\n",
       "  'uri': 'https://www.discogs.com/lists/MIX-Marinading-Beats/157337',\n",
       "  'id': 157337,\n",
       "  'name': 'MIX: Marinading Beats'},\n",
       " {'resource_url': 'https://api.discogs.com/lists/157274',\n",
       "  'public': True,\n",
       "  'image_url': '',\n",
       "  'user': {'username': 'pinkychukkles',\n",
       "   'resource_url': 'https://api.discogs.com/users/pinkychukkles',\n",
       "   'avatar_url': 'https://secure.gravatar.com/avatar/f4a3dbf1c964a72b848d6e13522b6d29?s=500&r=pg&d=mm',\n",
       "   'id': 7141},\n",
       "  'date_changed': '2013-01-09T06:55:05-08:00',\n",
       "  'date_added': '2012-12-30T07:57:49-08:00',\n",
       "  'description': 'Mix available to listen/download from: http://www.tiptopmusic.com/pinky/club-mediterraneo',\n",
       "  'uri': 'https://www.discogs.com/lists/MIX-Club-Mediterraneo/157274',\n",
       "  'id': 157274,\n",
       "  'name': 'MIX: Club Mediterraneo'},\n",
       " {'resource_url': 'https://api.discogs.com/lists/156676',\n",
       "  'public': True,\n",
       "  'image_url': '',\n",
       "  'user': {'username': 'pinkychukkles',\n",
       "   'resource_url': 'https://api.discogs.com/users/pinkychukkles',\n",
       "   'avatar_url': 'https://secure.gravatar.com/avatar/f4a3dbf1c964a72b848d6e13522b6d29?s=500&r=pg&d=mm',\n",
       "   'id': 7141},\n",
       "  'date_changed': '2013-01-09T06:54:42-08:00',\n",
       "  'date_added': '2012-12-22T04:21:50-08:00',\n",
       "  'description': 'Mix available to listen/download from: http://tiptopmusic.com/pinky/old-skool-deep-vol1',\n",
       "  'uri': 'https://www.discogs.com/lists/MIX-Old-Skool-Deep-Vol1/156676',\n",
       "  'id': 156676,\n",
       "  'name': 'MIX: Old Skool Deep Vol.1'}]"
      ]
     },
     "execution_count": 38,
     "metadata": {},
     "output_type": "execute_result"
    }
   ],
   "source": [
    "user_response['lists']"
   ]
  },
  {
   "cell_type": "markdown",
   "metadata": {},
   "source": [
    "get listitems\n"
   ]
  },
  {
   "cell_type": "code",
   "execution_count": 65,
   "metadata": {
    "ExecuteTime": {
     "end_time": "2020-01-13T03:03:34.374820Z",
     "start_time": "2020-01-13T03:03:33.972324Z"
    }
   },
   "outputs": [],
   "source": [
    "list_items_response = requests.get('https://api.discogs.com//lists/169689')"
   ]
  },
  {
   "cell_type": "code",
   "execution_count": 70,
   "metadata": {
    "ExecuteTime": {
     "end_time": "2020-01-13T03:04:15.131456Z",
     "start_time": "2020-01-13T03:04:15.123758Z"
    }
   },
   "outputs": [
    {
     "data": {
      "text/plain": [
       "dict_keys(['description', 'user', 'date_added', 'id', 'name', 'items', 'uri', 'image_url', 'date_changed', 'resource_url', 'public'])"
      ]
     },
     "execution_count": 70,
     "metadata": {},
     "output_type": "execute_result"
    }
   ],
   "source": [
    "list_items_response.json().keys()"
   ]
  },
  {
   "cell_type": "code",
   "execution_count": 71,
   "metadata": {
    "ExecuteTime": {
     "end_time": "2020-01-13T03:04:28.390047Z",
     "start_time": "2020-01-13T03:04:28.378093Z"
    }
   },
   "outputs": [
    {
     "data": {
      "text/plain": [
       "'The best deep house mixtape in the world... probably.'"
      ]
     },
     "execution_count": 71,
     "metadata": {},
     "output_type": "execute_result"
    }
   ],
   "source": [
    "list_items_response.json()['description']"
   ]
  },
  {
   "cell_type": "code",
   "execution_count": 72,
   "metadata": {
    "ExecuteTime": {
     "end_time": "2020-01-13T03:04:39.349900Z",
     "start_time": "2020-01-13T03:04:39.338911Z"
    }
   },
   "outputs": [
    {
     "data": {
      "text/plain": [
       "{'username': 'pinkychukkles',\n",
       " 'resource_url': 'https://api.discogs.com/users/pinkychukkles',\n",
       " 'avatar_url': 'https://secure.gravatar.com/avatar/f4a3dbf1c964a72b848d6e13522b6d29?s=500&r=pg&d=mm',\n",
       " 'id': 7141}"
      ]
     },
     "execution_count": 72,
     "metadata": {},
     "output_type": "execute_result"
    }
   ],
   "source": [
    "list_items_response.json()['user']"
   ]
  },
  {
   "cell_type": "code",
   "execution_count": 77,
   "metadata": {
    "ExecuteTime": {
     "end_time": "2020-01-13T03:05:11.185056Z",
     "start_time": "2020-01-13T03:05:11.169216Z"
    }
   },
   "outputs": [
    {
     "data": {
      "text/plain": [
       "{'comment': 'Endangered Species',\n",
       " 'stats': {'community': {'in_collection': 395, 'in_wantlist': 509}},\n",
       " 'display_title': 'The Endangered Species* - Endangered Music...',\n",
       " 'uri': 'https://www.discogs.com/The-Endangered-Species-Endangered-Music/release/68978',\n",
       " 'image_url': '',\n",
       " 'resource_url': 'https://api.discogs.com/releases/68978',\n",
       " 'type': 'release',\n",
       " 'id': 68978}"
      ]
     },
     "execution_count": 77,
     "metadata": {},
     "output_type": "execute_result"
    }
   ],
   "source": [
    "list_items_response.json()['items'][2]"
   ]
  },
  {
   "cell_type": "code",
   "execution_count": null,
   "metadata": {},
   "outputs": [],
   "source": [
    "list_items_response.json()['description']"
   ]
  },
  {
   "cell_type": "code",
   "execution_count": null,
   "metadata": {},
   "outputs": [],
   "source": [
    "list_items_response.json()['description']"
   ]
  },
  {
   "cell_type": "markdown",
   "metadata": {},
   "source": [
    "Create client"
   ]
  },
  {
   "cell_type": "code",
   "execution_count": 15,
   "metadata": {
    "ExecuteTime": {
     "end_time": "2020-01-21T03:57:47.784407Z",
     "start_time": "2020-01-21T03:57:47.392719Z"
    }
   },
   "outputs": [
    {
     "name": "stdout",
     "output_type": "stream",
     "text": [
      " == Request Token == \n",
      "    * oauth_token        = WjGmHgRrxwwuYdxpeLtzQfBDkvLABAoMLElYrOpD\n",
      "    * oauth_token_secret = NneqAktPNoDXUwplJmyCgMTHCnDzIpcwdPlaSVjY\n"
     ]
    }
   ],
   "source": [
    "user_agent = 'testnamerandomnamer' \n",
    "discogsclient = discogs_client.Client(user_agent)\n",
    "discogsclient.set_consumer_key(consumer_key, consumer_secret)\n",
    "token, secret, url = discogsclient.get_authorize_url()\n",
    "print(' == Request Token == ')\n",
    "print('    * oauth_token        = {0}'.format(token))\n",
    "print('    * oauth_token_secret = {0}'.format(secret))"
   ]
  },
  {
   "cell_type": "code",
   "execution_count": 16,
   "metadata": {
    "ExecuteTime": {
     "end_time": "2020-01-21T03:57:50.752214Z",
     "start_time": "2020-01-21T03:57:50.745524Z"
    }
   },
   "outputs": [
    {
     "name": "stdout",
     "output_type": "stream",
     "text": [
      "Please browse to the following URL https://www.discogs.com/oauth/authorize?oauth_token=WjGmHgRrxwwuYdxpeLtzQfBDkvLABAoMLElYrOpD\n"
     ]
    }
   ],
   "source": [
    "print('Please browse to the following URL {0}'.format(url))"
   ]
  },
  {
   "cell_type": "code",
   "execution_count": 18,
   "metadata": {
    "ExecuteTime": {
     "end_time": "2020-01-21T03:58:28.775939Z",
     "start_time": "2020-01-21T03:58:26.456954Z"
    }
   },
   "outputs": [
    {
     "name": "stdout",
     "output_type": "stream",
     "text": [
      "Verification code :dSZwgVysGo\n"
     ]
    }
   ],
   "source": [
    "oauth_verifier = input('Verification code :')"
   ]
  },
  {
   "cell_type": "code",
   "execution_count": 19,
   "metadata": {
    "ExecuteTime": {
     "end_time": "2020-01-21T03:58:31.276825Z",
     "start_time": "2020-01-21T03:58:30.902374Z"
    }
   },
   "outputs": [],
   "source": [
    "access_token, access_secret = discogsclient.get_access_token(oauth_verifier)"
   ]
  },
  {
   "cell_type": "code",
   "execution_count": 20,
   "metadata": {
    "ExecuteTime": {
     "end_time": "2020-01-21T03:58:31.961579Z",
     "start_time": "2020-01-21T03:58:31.588248Z"
    }
   },
   "outputs": [],
   "source": [
    "user = discogsclient.identity()\n",
    "user"
   ]
  },
  {
   "cell_type": "code",
   "execution_count": null,
   "metadata": {},
   "outputs": [],
   "source": []
  },
  {
   "cell_type": "code",
   "execution_count": null,
   "metadata": {},
   "outputs": [],
   "source": []
  },
  {
   "cell_type": "code",
   "execution_count": null,
   "metadata": {},
   "outputs": [],
   "source": []
  },
  {
   "cell_type": "code",
   "execution_count": null,
   "metadata": {},
   "outputs": [],
   "source": []
  },
  {
   "cell_type": "code",
   "execution_count": null,
   "metadata": {},
   "outputs": [],
   "source": []
  },
  {
   "cell_type": "code",
   "execution_count": 17,
   "metadata": {
    "ExecuteTime": {
     "end_time": "2020-01-09T10:07:11.864858Z",
     "start_time": "2020-01-09T10:07:11.858749Z"
    }
   },
   "outputs": [],
   "source": [
    "search_results = discogsclient.search('L.I.E.S. Records', type='label')"
   ]
  },
  {
   "cell_type": "code",
   "execution_count": 49,
   "metadata": {
    "ExecuteTime": {
     "end_time": "2020-01-21T04:07:19.154559Z",
     "start_time": "2020-01-21T04:07:18.770526Z"
    }
   },
   "outputs": [
    {
     "data": {
      "text/plain": [
       "<Release 191305 'Seventh Heaven (US Remix)'>"
      ]
     },
     "execution_count": 49,
     "metadata": {},
     "output_type": "execute_result"
    }
   ],
   "source": [
    "discogsclient.release(191305)"
   ]
  },
  {
   "cell_type": "code",
   "execution_count": 23,
   "metadata": {
    "ExecuteTime": {
     "end_time": "2020-01-21T03:59:25.142728Z",
     "start_time": "2020-01-21T03:59:25.130753Z"
    }
   },
   "outputs": [],
   "source": [
    "usr = discogsclient.user('pinkychukkles')"
   ]
  },
  {
   "cell_type": "code",
   "execution_count": 37,
   "metadata": {
    "ExecuteTime": {
     "end_time": "2020-01-21T04:03:04.903077Z",
     "start_time": "2020-01-21T04:03:04.866171Z"
    }
   },
   "outputs": [],
   "source": [
    "wantlist = usr.wantlist"
   ]
  },
  {
   "cell_type": "code",
   "execution_count": 48,
   "metadata": {
    "ExecuteTime": {
     "end_time": "2020-01-21T04:06:35.507514Z",
     "start_time": "2020-01-21T04:06:35.486336Z"
    }
   },
   "outputs": [
    {
     "data": {
      "text/plain": [
       "[<WantlistItem 191305 'Seventh Heaven (US Remix)'>,\n",
       " <WantlistItem 230098 'Lesson No. 1'>,\n",
       " <WantlistItem 14491 'Southern Paradise'>,\n",
       " <WantlistItem 9606 'ART¹'>,\n",
       " <WantlistItem 1063649 'Dub Dem Silly Vol. 2'>,\n",
       " <WantlistItem 1091128 'You Know How To Love Me'>,\n",
       " <WantlistItem 118811 'You Know How To Love Me'>,\n",
       " <WantlistItem 4266714 \"What'd I Say / I Got A Woman\">,\n",
       " <WantlistItem 21417 'Sunday Afternoon'>,\n",
       " <WantlistItem 1398896 'Hold Tight'>,\n",
       " <WantlistItem 3557733 'Blues Run The Game'>,\n",
       " <WantlistItem 716192 'Born To Get Down (Born To Mess Around)'>,\n",
       " <WantlistItem 678 'The Earth EP'>,\n",
       " <WantlistItem 7285 'Can You Handle It'>,\n",
       " <WantlistItem 314841 'Hell Dance With Me'>,\n",
       " <WantlistItem 4202 'My Old Friend'>,\n",
       " <WantlistItem 159295 'High Energy'>,\n",
       " <WantlistItem 142164 'Dancer'>,\n",
       " <WantlistItem 133817 \"Let's Start The Dance\">,\n",
       " <WantlistItem 1488031 'Ma Bakes / No Give Up'>,\n",
       " <WantlistItem 9898 \"G U's 70's Trip\">,\n",
       " <WantlistItem 553258 'Partyline'>,\n",
       " <WantlistItem 1670484 'Partyline'>,\n",
       " <WantlistItem 124064 'Super Sound'>,\n",
       " <WantlistItem 4360004 'Bobby Lyle Plays Electone GX707'>,\n",
       " <WantlistItem 10511 'Sax Sells'>,\n",
       " <WantlistItem 803777 \"It's In Your Blood\">,\n",
       " <WantlistItem 658602 'You Got The Stuff'>,\n",
       " <WantlistItem 408705 'Everything She Wants (Long Version)'>,\n",
       " <WantlistItem 494737 'Stomp (Move, Jump, Jack Your Body)'>,\n",
       " <WantlistItem 323191 'The Good The Bad And The Dread'>,\n",
       " <WantlistItem 226125 \"Don't Believe In Love\">,\n",
       " <WantlistItem 198299 'Summer Madness'>,\n",
       " <WantlistItem 1515 'Rhythm Talk'>,\n",
       " <WantlistItem 2776054 'Summer Madness'>,\n",
       " <WantlistItem 5287 'Warm Data'>,\n",
       " <WantlistItem 106861 'The Beeston EP'>,\n",
       " <WantlistItem 933139 'Toubab Bi Le'>,\n",
       " <WantlistItem 903079 'Un Fait Divers Et Rien De Plus'>,\n",
       " <WantlistItem 3987688 \"Please Don't Go Topless Mother / Cha Wailey Routa\">,\n",
       " <WantlistItem 1274518 'Tranquillo (Melt My Heart)'>,\n",
       " <WantlistItem 79646 \"She Can't Love You\">,\n",
       " <WantlistItem 1980025 \"Let's Stand Together\">,\n",
       " <WantlistItem 3223187 'The Magnificent Seven'>,\n",
       " <WantlistItem 233348 'Take Me Back To Love Again'>,\n",
       " <WantlistItem 1338373 \"Don't Stop Til You Get Enough\">,\n",
       " <WantlistItem 4052 'Autoreload EP'>,\n",
       " <WantlistItem 2661068 'Gypsy Woman / So Fine'>,\n",
       " <WantlistItem 7271229 'Cha Wailey Routa / Why Do I Dream'>,\n",
       " <WantlistItem 5276699 'Cha Wailey Routa / Why Do I Dream'>]"
      ]
     },
     "execution_count": 48,
     "metadata": {},
     "output_type": "execute_result"
    }
   ],
   "source": [
    "wantlist.page(1)"
   ]
  },
  {
   "cell_type": "code",
   "execution_count": null,
   "metadata": {},
   "outputs": [],
   "source": [
    "5276699"
   ]
  },
  {
   "cell_type": "code",
   "execution_count": 21,
   "metadata": {
    "ExecuteTime": {
     "end_time": "2020-01-09T10:07:35.531770Z",
     "start_time": "2020-01-09T10:07:35.166986Z"
    }
   },
   "outputs": [
    {
     "data": {
      "text/plain": [
       "34"
      ]
     },
     "execution_count": 21,
     "metadata": {},
     "output_type": "execute_result"
    }
   ],
   "source": [
    "len(search_results)"
   ]
  },
  {
   "cell_type": "code",
   "execution_count": 23,
   "metadata": {
    "ExecuteTime": {
     "end_time": "2020-01-09T10:08:22.197351Z",
     "start_time": "2020-01-09T10:08:22.188390Z"
    }
   },
   "outputs": [
    {
     "name": "stdout",
     "output_type": "stream",
     "text": [
      "L.I.E.S. Records\n",
      "E.M.I. Records\n",
      "EMI Records\n",
      "C.I.D.I.S. Louviers\n",
      "Over Records (2)\n",
      "G.P.I. S.A.\n",
      "Rough Trade Records GmbH\n",
      "RCA Records Pressing Plant, Hollywood\n",
      "Vinyl Expression Records\n",
      "RCA Records Factory, Italy\n",
      "RCA Records Pressing Plant, Rockaway\n",
      "EMI-Odeon S.A.I.C.\n",
      "Industrias Electricas Y Musicales Odeon S.A.I.C.\n",
      "Rude Records Savona\n",
      "Música Argentina E Internacional S.R.L.\n",
      "Lyntone Recordings Ltd.\n",
      "The Gramophone Co. Ltd.\n",
      "Columbia Phonograph Company Gen'l\n",
      "Phonodisc Ltd.\n",
      "CBS, Haarlem\n",
      "Electric & Musical Industries Ltd.\n",
      "Deutsche Grammophon Gesellschaft Pressing Plant\n",
      "Sonopress\n",
      "CIDIS, Antony\n",
      "Gramofonové Závody\n",
      "GZ Digital Media\n",
      "Columbia Graphophone Company Ltd.\n",
      "Decca\n",
      "Sono Cairo\n",
      "EMI Ltd.\n",
      "SIAE\n",
      "Sony/CBS, Haarlem\n",
      "PRS\n",
      "W.M.O./r\n"
     ]
    }
   ],
   "source": [
    "for label in search_results:\n",
    "    print(label.name)"
   ]
  },
  {
   "cell_type": "code",
   "execution_count": 18,
   "metadata": {
    "ExecuteTime": {
     "end_time": "2020-01-09T10:07:12.972022Z",
     "start_time": "2020-01-09T10:07:12.504164Z"
    }
   },
   "outputs": [],
   "source": [
    "label = search_results[0]"
   ]
  },
  {
   "cell_type": "code",
   "execution_count": 22,
   "metadata": {
    "ExecuteTime": {
     "end_time": "2020-01-09T10:07:58.673336Z",
     "start_time": "2020-01-09T10:07:58.665685Z"
    }
   },
   "outputs": [
    {
     "data": {
      "text/plain": [
       "'L.I.E.S. Records'"
      ]
     },
     "execution_count": 22,
     "metadata": {},
     "output_type": "execute_result"
    }
   ],
   "source": [
    "label.name"
   ]
  },
  {
   "cell_type": "code",
   "execution_count": 24,
   "metadata": {
    "ExecuteTime": {
     "end_time": "2020-01-09T10:20:14.358495Z",
     "start_time": "2020-01-09T10:20:14.352939Z"
    }
   },
   "outputs": [],
   "source": [
    "# Using artist ID\n",
    "artist = discogsclient.artist(5687377)"
   ]
  },
  {
   "cell_type": "code",
   "execution_count": 26,
   "metadata": {
    "ExecuteTime": {
     "end_time": "2020-01-09T10:20:38.258063Z",
     "start_time": "2020-01-09T10:20:37.902175Z"
    }
   },
   "outputs": [
    {
     "data": {
      "text/plain": [
       "[]"
      ]
     },
     "execution_count": 26,
     "metadata": {},
     "output_type": "execute_result"
    }
   ],
   "source": [
    "artist.aliases"
   ]
  },
  {
   "cell_type": "code",
   "execution_count": 34,
   "metadata": {
    "ExecuteTime": {
     "end_time": "2020-01-09T10:21:40.226296Z",
     "start_time": "2020-01-09T10:21:39.829982Z"
    }
   },
   "outputs": [
    {
     "data": {
      "text/plain": [
       "[<Master 1615295 'Bahamas Gone Independent'>,\n",
       " <Release 10913326 'Mr. Pindling / Head Hunters Rock'>,\n",
       " <Release 12041911 'You Sweeten Me / The Brush '>]"
      ]
     },
     "execution_count": 34,
     "metadata": {},
     "output_type": "execute_result"
    }
   ],
   "source": [
    "artist.releases.page(0)"
   ]
  },
  {
   "cell_type": "code",
   "execution_count": 38,
   "metadata": {
    "ExecuteTime": {
     "end_time": "2020-01-09T10:22:05.623733Z",
     "start_time": "2020-01-09T10:22:05.240141Z"
    }
   },
   "outputs": [
    {
     "data": {
      "text/plain": [
       "[<Master 1615295 'Bahamas Gone Independent'>,\n",
       " <Release 10913326 'Mr. Pindling / Head Hunters Rock'>,\n",
       " <Release 12041911 'You Sweeten Me / The Brush '>]"
      ]
     },
     "execution_count": 38,
     "metadata": {},
     "output_type": "execute_result"
    }
   ],
   "source": [
    "artist.releases.page(1)"
   ]
  },
  {
   "cell_type": "code",
   "execution_count": null,
   "metadata": {},
   "outputs": [],
   "source": []
  },
  {
   "cell_type": "code",
   "execution_count": null,
   "metadata": {},
   "outputs": [],
   "source": [
    "search_results = discogsclient.search('L.I.E.S. Records', type='label')"
   ]
  },
  {
   "cell_type": "code",
   "execution_count": null,
   "metadata": {},
   "outputs": [],
   "source": []
  },
  {
   "cell_type": "code",
   "execution_count": null,
   "metadata": {},
   "outputs": [],
   "source": []
  },
  {
   "cell_type": "code",
   "execution_count": null,
   "metadata": {},
   "outputs": [],
   "source": []
  },
  {
   "cell_type": "code",
   "execution_count": null,
   "metadata": {},
   "outputs": [],
   "source": []
  },
  {
   "cell_type": "code",
   "execution_count": null,
   "metadata": {},
   "outputs": [],
   "source": []
  },
  {
   "cell_type": "code",
   "execution_count": null,
   "metadata": {},
   "outputs": [],
   "source": []
  },
  {
   "cell_type": "code",
   "execution_count": null,
   "metadata": {},
   "outputs": [],
   "source": []
  },
  {
   "cell_type": "code",
   "execution_count": null,
   "metadata": {},
   "outputs": [],
   "source": []
  },
  {
   "cell_type": "code",
   "execution_count": null,
   "metadata": {
    "ExecuteTime": {
     "end_time": "2020-01-09T06:09:49.824390Z",
     "start_time": "2020-01-09T06:09:49.202298Z"
    }
   },
   "outputs": [],
   "source": [
    "r = requests.get('https://api.discogs.com/artists/1079009/releases?page=1&per_page=250&sort=year')"
   ]
  },
  {
   "cell_type": "code",
   "execution_count": null,
   "metadata": {
    "ExecuteTime": {
     "end_time": "2020-01-09T06:10:01.637512Z",
     "start_time": "2020-01-09T06:10:01.629096Z"
    }
   },
   "outputs": [],
   "source": [
    "r.text"
   ]
  },
  {
   "cell_type": "code",
   "execution_count": null,
   "metadata": {},
   "outputs": [],
   "source": [
    "discogsclient.set_consumer_key(consumer_key, consumer_secret)"
   ]
  },
  {
   "cell_type": "code",
   "execution_count": null,
   "metadata": {
    "ExecuteTime": {
     "end_time": "2020-01-09T00:41:28.661415Z",
     "start_time": "2020-01-09T00:41:28.655609Z"
    }
   },
   "outputs": [],
   "source": [
    "d.set_consumer_key(consumer_key, consumer_secret)"
   ]
  },
  {
   "cell_type": "code",
   "execution_count": null,
   "metadata": {},
   "outputs": [],
   "source": [
    "# def yelp_call(url_params, api_key):\n",
    "#     url = 'https://api.yelp.com/v3/businesses/search'\n",
    "#     headers = {'Authorization': 'Bearer {}'.format(api_key)}\n",
    "#     response = requests.get(url, headers=headers, params=url_params)\n",
    "#     data = response.json()\n",
    "#     return data\n",
    "\n",
    "# my_url_params = {'location':'Manhattan', 'categories':'massage, All', 'sort_by':'review_count', 'limit':50}\n"
   ]
  },
  {
   "cell_type": "code",
   "execution_count": null,
   "metadata": {
    "ExecuteTime": {
     "end_time": "2020-01-09T03:43:21.135236Z",
     "start_time": "2020-01-09T03:43:20.781730Z"
    }
   },
   "outputs": [],
   "source": [
    "request_token_response = requests.get(request_token_url)"
   ]
  },
  {
   "cell_type": "code",
   "execution_count": null,
   "metadata": {
    "ExecuteTime": {
     "end_time": "2020-01-09T03:43:21.302719Z",
     "start_time": "2020-01-09T03:43:21.296525Z"
    }
   },
   "outputs": [],
   "source": [
    "request_token_response"
   ]
  },
  {
   "cell_type": "code",
   "execution_count": null,
   "metadata": {
    "ExecuteTime": {
     "end_time": "2020-01-09T03:00:02.195930Z",
     "start_time": "2020-01-09T03:00:02.190277Z"
    }
   },
   "outputs": [],
   "source": [
    "now = datetime.now()"
   ]
  },
  {
   "cell_type": "code",
   "execution_count": null,
   "metadata": {
    "ExecuteTime": {
     "end_time": "2020-01-09T03:18:32.736484Z",
     "start_time": "2020-01-09T03:18:32.727815Z"
    },
    "run_control": {
     "marked": false
    }
   },
   "outputs": [],
   "source": [
    "headers = {Content-Type: application/x-www-form-urlencoded\n",
    "'Authorization':\n",
    "        'OAuth oauth_consumer_key'='RxDrRNzngcGvYVYfvPzj``';\n",
    "        'oauth_nonce'='test';\n",
    "        'oauth_signature'='emqEsqpTlbfobUocxmGUeRjejDSBLDvf&';\n",
    "        'oauth_signature_method'=\"PLAINTEXT\";\n",
    "        'oauth_timestamp'=\"now\";\n",
    "        'oauth_callback'=\"your_callback\"\n",
    "User-Agent: some_user_agent}"
   ]
  },
  {
   "cell_type": "code",
   "execution_count": null,
   "metadata": {
    "ExecuteTime": {
     "end_time": "2020-01-09T03:40:03.925905Z",
     "start_time": "2020-01-09T03:40:03.920793Z"
    }
   },
   "outputs": [],
   "source": [
    "test_url = 'http://api.discogs.com/database/search?type=artist&q=Carlos+Santana'"
   ]
  },
  {
   "cell_type": "code",
   "execution_count": null,
   "metadata": {
    "ExecuteTime": {
     "end_time": "2020-01-09T03:40:24.065777Z",
     "start_time": "2020-01-09T03:40:23.259884Z"
    }
   },
   "outputs": [],
   "source": [
    "santana = requests.get(test_url, auth=)"
   ]
  },
  {
   "cell_type": "code",
   "execution_count": null,
   "metadata": {
    "ExecuteTime": {
     "end_time": "2020-01-09T03:46:57.130384Z",
     "start_time": "2020-01-09T03:46:57.122844Z"
    }
   },
   "outputs": [],
   "source": [
    "santana.text"
   ]
  },
  {
   "cell_type": "code",
   "execution_count": null,
   "metadata": {
    "run_control": {
     "marked": false
    }
   },
   "outputs": [],
   "source": [
    "headers = {Content-Type: application/x-www-form-urlencoded}\n",
    "authorization = {'Authorization':\n",
    "        'OAuth oauth_consumer_key'=consumer_key,\n",
    "        'oauth_nonce'='test',\n",
    "        'oauth_signature'='emqEsqpTlbfobUocxmGUeRjejDSBLDvf&',\n",
    "        'oauth_signature_method'=\"PLAINTEXT\",\n",
    "        'oauth_timestamp'=\"now\",\n",
    "        'oauth_callback'=\"your_callback\",}\n",
    "User-Agent: some_user_agent"
   ]
  },
  {
   "cell_type": "code",
   "execution_count": null,
   "metadata": {},
   "outputs": [],
   "source": [
    "url = 'http://api.discogs.com/database/search?type=artist&q=Carlos+Santana'\n",
    "headers = {'Authorization': 'Bearer {}'.format(api_key)}"
   ]
  },
  {
   "cell_type": "code",
   "execution_count": null,
   "metadata": {},
   "outputs": [],
   "source": [
    ">>> key = '<the key you get from bitbucket>'\n",
    ">>> secret = '<the secret you get from bitbucket>'\n",
    "\n",
    ">>> # OAuth endpoints given in the Bitbucket API documentation\n",
    ">>> request_token_url = 'https://bitbucket.org/!api/1.0/oauth/request_token'\n",
    ">>> authorization_base_url = 'https://bitbucket.org/!api/1.0/oauth/authenticate'\n",
    ">>> access_token_url = 'https://bitbucket.org/!api/1.0/oauth/access_token'\n",
    "\n",
    ">>> # 2. Fetch a request token\n",
    ">>> from requests_oauthlib import OAuth1Session\n",
    ">>> bitbucket = OAuth1Session(key, client_secret=secret,\n",
    ">>>         callback_uri='http://127.0.0.1/cb')\n",
    ">>> bitbucket.fetch_request_token(request_token_url)\n",
    "\n",
    ">>> # 3. Redirect user to Bitbucket for authorization\n",
    ">>> authorization_url = bitbucket.authorization_url(authorization_base_url)\n",
    ">>> print 'Please go here and authorize,', authorization_url\n",
    "\n",
    ">>> # 4. Get the authorization verifier code from the callback url\n",
    ">>> redirect_response = raw_input('Paste the full redirect URL here:')\n",
    ">>> bitbucket.parse_authorization_response(redirect_response)\n",
    "\n",
    ">>> # 5. Fetch the access token\n",
    ">>> bitbucket.fetch_access_token(access_token_url)\n",
    "\n",
    ">>> # 6. Fetch a protected resource, i.e. user profile\n",
    ">>> r = bitbucket.get('https://bitbucket.org/api/1.0/user')\n",
    ">>> print r.content"
   ]
  },
  {
   "cell_type": "code",
   "execution_count": null,
   "metadata": {
    "ExecuteTime": {
     "end_time": "2020-01-09T04:45:45.961423Z",
     "start_time": "2020-01-09T04:45:45.956296Z"
    }
   },
   "outputs": [],
   "source": [
    "request_token_url = 'https://api.discogs.com/oauth/request_token'\n",
    "authorize_url = 'https://www.discogs.com/oauth/authorize'\n",
    "access_token_url = 'https://api.discogs.com/oauth/access_token'"
   ]
  },
  {
   "cell_type": "code",
   "execution_count": null,
   "metadata": {
    "ExecuteTime": {
     "end_time": "2020-01-09T04:45:46.730933Z",
     "start_time": "2020-01-09T04:45:46.346027Z"
    }
   },
   "outputs": [],
   "source": [
    "disocgs = OAuth1Session(consumer_key, client_secret=consumer_secret,\n",
    "       callback_uri='http://127.0.0.1/cb')\n",
    "disocgs.fetch_request_token(request_token_url)\n"
   ]
  },
  {
   "cell_type": "code",
   "execution_count": null,
   "metadata": {
    "ExecuteTime": {
     "end_time": "2020-01-09T04:48:23.253634Z",
     "start_time": "2020-01-09T04:48:23.247570Z"
    }
   },
   "outputs": [],
   "source": [
    "authorization_url = disocgs.authorization_url(authorize_url)\n",
    "print(f'Please go here {authorization_url} and authorize')"
   ]
  },
  {
   "cell_type": "code",
   "execution_count": null,
   "metadata": {
    "ExecuteTime": {
     "end_time": "2020-01-09T06:22:11.165828Z",
     "start_time": "2020-01-09T06:22:11.149858Z"
    }
   },
   "outputs": [],
   "source": [
    "redirect_response = raw_input('https://www.discogs.com/oauth/authorize?oauth_token=iLaGBeSXqcgBFPirnpPqSaoPgitBFvhoDTBqbjov')\n",
    "discogs.parse_authorization_response(redirect_response)\n"
   ]
  },
  {
   "cell_type": "code",
   "execution_count": null,
   "metadata": {},
   "outputs": [],
   "source": []
  }
 ],
 "metadata": {
  "kernelspec": {
   "display_name": "Python 3",
   "language": "python",
   "name": "python3"
  },
  "language_info": {
   "codemirror_mode": {
    "name": "ipython",
    "version": 3
   },
   "file_extension": ".py",
   "mimetype": "text/x-python",
   "name": "python",
   "nbconvert_exporter": "python",
   "pygments_lexer": "ipython3",
   "version": "3.7.5"
  },
  "varInspector": {
   "cols": {
    "lenName": 16,
    "lenType": 16,
    "lenVar": 40
   },
   "kernels_config": {
    "python": {
     "delete_cmd_postfix": "",
     "delete_cmd_prefix": "del ",
     "library": "var_list.py",
     "varRefreshCmd": "print(var_dic_list())"
    },
    "r": {
     "delete_cmd_postfix": ") ",
     "delete_cmd_prefix": "rm(",
     "library": "var_list.r",
     "varRefreshCmd": "cat(var_dic_list()) "
    }
   },
   "types_to_exclude": [
    "module",
    "function",
    "builtin_function_or_method",
    "instance",
    "_Feature"
   ],
   "window_display": false
  }
 },
 "nbformat": 4,
 "nbformat_minor": 2
}
