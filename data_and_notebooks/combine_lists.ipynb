{
 "cells": [
  {
   "cell_type": "code",
   "execution_count": 2,
   "metadata": {
    "ExecuteTime": {
     "end_time": "2020-01-21T15:41:02.220779Z",
     "start_time": "2020-01-21T15:41:01.647438Z"
    }
   },
   "outputs": [],
   "source": [
    "import pandas as pd"
   ]
  },
  {
   "cell_type": "markdown",
   "metadata": {},
   "source": [
    "### Lists scraped:"
   ]
  },
  {
   "cell_type": "markdown",
   "metadata": {},
   "source": [
    "##### Minimal group - users"
   ]
  },
  {
   "cell_type": "code",
   "execution_count": 3,
   "metadata": {
    "ExecuteTime": {
     "end_time": "2020-01-21T15:41:03.309698Z",
     "start_time": "2020-01-21T15:41:03.269744Z"
    }
   },
   "outputs": [
    {
     "name": "stdout",
     "output_type": "stream",
     "text": [
      "Total users: 320\n"
     ]
    },
    {
     "data": {
      "text/html": [
       "<div>\n",
       "<style scoped>\n",
       "    .dataframe tbody tr th:only-of-type {\n",
       "        vertical-align: middle;\n",
       "    }\n",
       "\n",
       "    .dataframe tbody tr th {\n",
       "        vertical-align: top;\n",
       "    }\n",
       "\n",
       "    .dataframe thead th {\n",
       "        text-align: right;\n",
       "    }\n",
       "</style>\n",
       "<table border=\"1\" class=\"dataframe\">\n",
       "  <thead>\n",
       "    <tr style=\"text-align: right;\">\n",
       "      <th></th>\n",
       "      <th>contributed</th>\n",
       "      <th>for_sale</th>\n",
       "      <th>images</th>\n",
       "      <th>in_collection</th>\n",
       "      <th>in_wantlist</th>\n",
       "      <th>lists</th>\n",
       "      <th>reviews</th>\n",
       "      <th>username</th>\n",
       "    </tr>\n",
       "  </thead>\n",
       "  <tbody>\n",
       "    <tr>\n",
       "      <th>0</th>\n",
       "      <td>/contributions?user=teori</td>\n",
       "      <td>/seller/teori/profile</td>\n",
       "      <td>/user/teori/images</td>\n",
       "      <td>/user/teori/collection?header=1</td>\n",
       "      <td>/wantlist?user=teori</td>\n",
       "      <td>none</td>\n",
       "      <td>/user/teori/reviews?header=1</td>\n",
       "      <td>teori</td>\n",
       "    </tr>\n",
       "    <tr>\n",
       "      <th>1</th>\n",
       "      <td>none</td>\n",
       "      <td>none</td>\n",
       "      <td>none</td>\n",
       "      <td>none</td>\n",
       "      <td>/wantlist?user=bojosection</td>\n",
       "      <td>none</td>\n",
       "      <td>none</td>\n",
       "      <td>bojosection</td>\n",
       "    </tr>\n",
       "  </tbody>\n",
       "</table>\n",
       "</div>"
      ],
      "text/plain": [
       "                 contributed               for_sale              images  \\\n",
       "0  /contributions?user=teori  /seller/teori/profile  /user/teori/images   \n",
       "1                       none                   none                none   \n",
       "\n",
       "                     in_collection                 in_wantlist lists  \\\n",
       "0  /user/teori/collection?header=1        /wantlist?user=teori  none   \n",
       "1                             none  /wantlist?user=bojosection  none   \n",
       "\n",
       "                        reviews     username  \n",
       "0  /user/teori/reviews?header=1        teori  \n",
       "1                          none  bojosection  "
      ]
     },
     "execution_count": 3,
     "metadata": {},
     "output_type": "execute_result"
    }
   ],
   "source": [
    "minimal_df = pd.read_csv('minimal.csv')\n",
    "print(f'Total users: {minimal_df.shape[0]}')\n",
    "minimal_df.head(2)"
   ]
  },
  {
   "cell_type": "code",
   "execution_count": 4,
   "metadata": {
    "ExecuteTime": {
     "end_time": "2020-01-21T15:41:04.165695Z",
     "start_time": "2020-01-21T15:41:04.156274Z"
    }
   },
   "outputs": [
    {
     "name": "stdout",
     "output_type": "stream",
     "text": [
      "92\n"
     ]
    }
   ],
   "source": [
    "drop = minimal_df[(minimal_df.in_collection == 'none') & (minimal_df.in_wantlist == 'none')].index\n",
    "print(len(drop))"
   ]
  },
  {
   "cell_type": "code",
   "execution_count": 5,
   "metadata": {
    "ExecuteTime": {
     "end_time": "2020-01-21T15:41:04.978526Z",
     "start_time": "2020-01-21T15:41:04.956901Z"
    }
   },
   "outputs": [
    {
     "name": "stdout",
     "output_type": "stream",
     "text": [
      "Total users with either collections or wantlist: 228\n"
     ]
    },
    {
     "data": {
      "text/html": [
       "<div>\n",
       "<style scoped>\n",
       "    .dataframe tbody tr th:only-of-type {\n",
       "        vertical-align: middle;\n",
       "    }\n",
       "\n",
       "    .dataframe tbody tr th {\n",
       "        vertical-align: top;\n",
       "    }\n",
       "\n",
       "    .dataframe thead th {\n",
       "        text-align: right;\n",
       "    }\n",
       "</style>\n",
       "<table border=\"1\" class=\"dataframe\">\n",
       "  <thead>\n",
       "    <tr style=\"text-align: right;\">\n",
       "      <th></th>\n",
       "      <th>username</th>\n",
       "      <th>in_collection</th>\n",
       "      <th>in_wantlist</th>\n",
       "    </tr>\n",
       "  </thead>\n",
       "  <tbody>\n",
       "    <tr>\n",
       "      <th>0</th>\n",
       "      <td>teori</td>\n",
       "      <td>/user/teori/collection?header=1</td>\n",
       "      <td>/wantlist?user=teori</td>\n",
       "    </tr>\n",
       "    <tr>\n",
       "      <th>1</th>\n",
       "      <td>bojosection</td>\n",
       "      <td>none</td>\n",
       "      <td>/wantlist?user=bojosection</td>\n",
       "    </tr>\n",
       "    <tr>\n",
       "      <th>2</th>\n",
       "      <td>BlackOctober</td>\n",
       "      <td>/user/BlackOctober/collection?header=1</td>\n",
       "      <td>/wantlist?user=BlackOctober</td>\n",
       "    </tr>\n",
       "  </tbody>\n",
       "</table>\n",
       "</div>"
      ],
      "text/plain": [
       "       username                           in_collection  \\\n",
       "0         teori         /user/teori/collection?header=1   \n",
       "1   bojosection                                    none   \n",
       "2  BlackOctober  /user/BlackOctober/collection?header=1   \n",
       "\n",
       "                   in_wantlist  \n",
       "0         /wantlist?user=teori  \n",
       "1   /wantlist?user=bojosection  \n",
       "2  /wantlist?user=BlackOctober  "
      ]
     },
     "execution_count": 5,
     "metadata": {},
     "output_type": "execute_result"
    }
   ],
   "source": [
    "minimal_df.drop(labels=list(drop), axis='index', inplace=True)\n",
    "print(f'Total users with either collections or wantlist: {minimal_df.shape[0]}')\n",
    "minimal_users = minimal_df[['username', 'in_collection', 'in_wantlist']]\n",
    "minimal_users.head(3)"
   ]
  },
  {
   "cell_type": "markdown",
   "metadata": {},
   "source": [
    "##### Selected_groups - users \n",
    "Incomplete scrape, double-click for groups\n",
    "\n",
    "<!-- # Minimal 1117\n",
    "# It's that Detroit Shit...90 - removed\n",
    "# Chicago House 777 - removed\n",
    "# Industrial,Ambient,Noise,Experimental,Neofolk 47- removed\n",
    "# Acid - removed\n",
    "# Dub [Techno] 89 - removed\n",
    "# Ambient and Experimental 114\n",
    "# Deepness 96 - removed\n",
    "# House Music 451\n",
    "# Underground House 1165\n",
    "# 1990s mixtapes 7373\n",
    "# Tech House 768 - removed\n",
    "# Techno 1990-1999 575 -->"
   ]
  },
  {
   "cell_type": "code",
   "execution_count": 6,
   "metadata": {
    "ExecuteTime": {
     "end_time": "2020-01-21T15:41:06.568791Z",
     "start_time": "2020-01-21T15:41:06.460654Z"
    }
   },
   "outputs": [
    {
     "name": "stdout",
     "output_type": "stream",
     "text": [
      "Total users: 14082\n"
     ]
    },
    {
     "data": {
      "text/html": [
       "<div>\n",
       "<style scoped>\n",
       "    .dataframe tbody tr th:only-of-type {\n",
       "        vertical-align: middle;\n",
       "    }\n",
       "\n",
       "    .dataframe tbody tr th {\n",
       "        vertical-align: top;\n",
       "    }\n",
       "\n",
       "    .dataframe thead th {\n",
       "        text-align: right;\n",
       "    }\n",
       "</style>\n",
       "<table border=\"1\" class=\"dataframe\">\n",
       "  <thead>\n",
       "    <tr style=\"text-align: right;\">\n",
       "      <th></th>\n",
       "      <th>contributed</th>\n",
       "      <th>for_sale</th>\n",
       "      <th>images</th>\n",
       "      <th>in_collection</th>\n",
       "      <th>in_wantlist</th>\n",
       "      <th>lists</th>\n",
       "      <th>reviews</th>\n",
       "      <th>username</th>\n",
       "    </tr>\n",
       "  </thead>\n",
       "  <tbody>\n",
       "    <tr>\n",
       "      <th>0</th>\n",
       "      <td>/contributions?user=sgt</td>\n",
       "      <td>none</td>\n",
       "      <td>/user/sgt/images</td>\n",
       "      <td>/user/sgt/collection?header=1</td>\n",
       "      <td>none</td>\n",
       "      <td>none</td>\n",
       "      <td>/user/sgt/reviews?header=1</td>\n",
       "      <td>sgt</td>\n",
       "    </tr>\n",
       "    <tr>\n",
       "      <th>1</th>\n",
       "      <td>none</td>\n",
       "      <td>/seller/123Jan/profile</td>\n",
       "      <td>none</td>\n",
       "      <td>/user/123Jan/collection?header=1</td>\n",
       "      <td>/wantlist?user=123Jan</td>\n",
       "      <td>none</td>\n",
       "      <td>/user/123Jan/reviews?header=1</td>\n",
       "      <td>123Jan</td>\n",
       "    </tr>\n",
       "  </tbody>\n",
       "</table>\n",
       "</div>"
      ],
      "text/plain": [
       "               contributed                for_sale            images  \\\n",
       "0  /contributions?user=sgt                    none  /user/sgt/images   \n",
       "1                     none  /seller/123Jan/profile              none   \n",
       "\n",
       "                      in_collection            in_wantlist lists  \\\n",
       "0     /user/sgt/collection?header=1                   none  none   \n",
       "1  /user/123Jan/collection?header=1  /wantlist?user=123Jan  none   \n",
       "\n",
       "                         reviews username  \n",
       "0     /user/sgt/reviews?header=1      sgt  \n",
       "1  /user/123Jan/reviews?header=1   123Jan  "
      ]
     },
     "execution_count": 6,
     "metadata": {},
     "output_type": "execute_result"
    }
   ],
   "source": [
    "selected_groups_df = pd.read_csv('selected_groups.csv')\n",
    "print(f'Total users: {selected_groups_df.shape[0]}')\n",
    "selected_groups_df.head(2)"
   ]
  },
  {
   "cell_type": "code",
   "execution_count": 7,
   "metadata": {
    "ExecuteTime": {
     "end_time": "2020-01-21T15:41:07.238594Z",
     "start_time": "2020-01-21T15:41:07.223444Z"
    }
   },
   "outputs": [
    {
     "name": "stdout",
     "output_type": "stream",
     "text": [
      "Users to drop: 4008\n"
     ]
    }
   ],
   "source": [
    "drop = selected_groups_df[(selected_groups_df.in_collection == 'none') & (selected_groups_df.in_wantlist == 'none')].index\n",
    "print(f'Users to drop: {len(drop)}')"
   ]
  },
  {
   "cell_type": "code",
   "execution_count": 8,
   "metadata": {
    "ExecuteTime": {
     "end_time": "2020-01-21T15:41:08.434475Z",
     "start_time": "2020-01-21T15:41:08.396466Z"
    }
   },
   "outputs": [
    {
     "name": "stdout",
     "output_type": "stream",
     "text": [
      "Total users with either collections or wantlist: 10074\n"
     ]
    },
    {
     "data": {
      "text/html": [
       "<div>\n",
       "<style scoped>\n",
       "    .dataframe tbody tr th:only-of-type {\n",
       "        vertical-align: middle;\n",
       "    }\n",
       "\n",
       "    .dataframe tbody tr th {\n",
       "        vertical-align: top;\n",
       "    }\n",
       "\n",
       "    .dataframe thead th {\n",
       "        text-align: right;\n",
       "    }\n",
       "</style>\n",
       "<table border=\"1\" class=\"dataframe\">\n",
       "  <thead>\n",
       "    <tr style=\"text-align: right;\">\n",
       "      <th></th>\n",
       "      <th>username</th>\n",
       "      <th>in_collection</th>\n",
       "      <th>in_wantlist</th>\n",
       "    </tr>\n",
       "  </thead>\n",
       "  <tbody>\n",
       "    <tr>\n",
       "      <th>0</th>\n",
       "      <td>sgt</td>\n",
       "      <td>/user/sgt/collection?header=1</td>\n",
       "      <td>none</td>\n",
       "    </tr>\n",
       "    <tr>\n",
       "      <th>1</th>\n",
       "      <td>123Jan</td>\n",
       "      <td>/user/123Jan/collection?header=1</td>\n",
       "      <td>/wantlist?user=123Jan</td>\n",
       "    </tr>\n",
       "    <tr>\n",
       "      <th>2</th>\n",
       "      <td>117hao</td>\n",
       "      <td>/user/117hao/collection?header=1</td>\n",
       "      <td>/wantlist?user=117hao</td>\n",
       "    </tr>\n",
       "  </tbody>\n",
       "</table>\n",
       "</div>"
      ],
      "text/plain": [
       "  username                     in_collection            in_wantlist\n",
       "0      sgt     /user/sgt/collection?header=1                   none\n",
       "1   123Jan  /user/123Jan/collection?header=1  /wantlist?user=123Jan\n",
       "2   117hao  /user/117hao/collection?header=1  /wantlist?user=117hao"
      ]
     },
     "execution_count": 8,
     "metadata": {},
     "output_type": "execute_result"
    }
   ],
   "source": [
    "selected_groups_df.drop(labels=list(drop), axis='index', inplace=True)\n",
    "print(f'Total users with either collections or wantlist: {selected_groups_df.shape[0]}')\n",
    "selected_groups_users = selected_groups_df[['username', 'in_collection', 'in_wantlist']]\n",
    "selected_groups_users.head(3)"
   ]
  },
  {
   "cell_type": "markdown",
   "metadata": {
    "heading_collapsed": true
   },
   "source": [
    "##### (users.csv) - add later "
   ]
  },
  {
   "cell_type": "markdown",
   "metadata": {},
   "source": [
    "##### subset groups - users"
   ]
  },
  {
   "cell_type": "code",
   "execution_count": 9,
   "metadata": {
    "ExecuteTime": {
     "end_time": "2020-01-21T15:41:13.793192Z",
     "start_time": "2020-01-21T15:41:13.747911Z"
    }
   },
   "outputs": [
    {
     "name": "stdout",
     "output_type": "stream",
     "text": [
      "Total users: 1996\n"
     ]
    },
    {
     "data": {
      "text/html": [
       "<div>\n",
       "<style scoped>\n",
       "    .dataframe tbody tr th:only-of-type {\n",
       "        vertical-align: middle;\n",
       "    }\n",
       "\n",
       "    .dataframe tbody tr th {\n",
       "        vertical-align: top;\n",
       "    }\n",
       "\n",
       "    .dataframe thead th {\n",
       "        text-align: right;\n",
       "    }\n",
       "</style>\n",
       "<table border=\"1\" class=\"dataframe\">\n",
       "  <thead>\n",
       "    <tr style=\"text-align: right;\">\n",
       "      <th></th>\n",
       "      <th>contributed</th>\n",
       "      <th>for_sale</th>\n",
       "      <th>images</th>\n",
       "      <th>in_collection</th>\n",
       "      <th>in_wantlist</th>\n",
       "      <th>lists</th>\n",
       "      <th>reviews</th>\n",
       "      <th>username</th>\n",
       "    </tr>\n",
       "  </thead>\n",
       "  <tbody>\n",
       "    <tr>\n",
       "      <th>0</th>\n",
       "      <td>none</td>\n",
       "      <td>none</td>\n",
       "      <td>none</td>\n",
       "      <td>/user/44Records/collection?header=1</td>\n",
       "      <td>/wantlist?user=44Records</td>\n",
       "      <td>none</td>\n",
       "      <td>none</td>\n",
       "      <td>44Records</td>\n",
       "    </tr>\n",
       "    <tr>\n",
       "      <th>1</th>\n",
       "      <td>/contributions?user=-DoNkEy-</td>\n",
       "      <td>none</td>\n",
       "      <td>/user/-DoNkEy-/images</td>\n",
       "      <td>/user/-DoNkEy-/collection?header=1</td>\n",
       "      <td>/wantlist?user=-DoNkEy-</td>\n",
       "      <td>/user/-DoNkEy-/lists?header=1</td>\n",
       "      <td>/user/-DoNkEy-/reviews?header=1</td>\n",
       "      <td>-DoNkEy-</td>\n",
       "    </tr>\n",
       "  </tbody>\n",
       "</table>\n",
       "</div>"
      ],
      "text/plain": [
       "                    contributed for_sale                 images  \\\n",
       "0                          none     none                   none   \n",
       "1  /contributions?user=-DoNkEy-     none  /user/-DoNkEy-/images   \n",
       "\n",
       "                         in_collection               in_wantlist  \\\n",
       "0  /user/44Records/collection?header=1  /wantlist?user=44Records   \n",
       "1   /user/-DoNkEy-/collection?header=1   /wantlist?user=-DoNkEy-   \n",
       "\n",
       "                           lists                          reviews   username  \n",
       "0                           none                             none  44Records  \n",
       "1  /user/-DoNkEy-/lists?header=1  /user/-DoNkEy-/reviews?header=1   -DoNkEy-  "
      ]
     },
     "execution_count": 9,
     "metadata": {},
     "output_type": "execute_result"
    }
   ],
   "source": [
    "subset_df = pd.read_csv('subset.csv')\n",
    "print(f'Total users: {subset_df.shape[0]}')\n",
    "subset_df.head(2)"
   ]
  },
  {
   "cell_type": "code",
   "execution_count": 10,
   "metadata": {
    "ExecuteTime": {
     "end_time": "2020-01-21T15:41:14.504873Z",
     "start_time": "2020-01-21T15:41:14.491887Z"
    }
   },
   "outputs": [
    {
     "name": "stdout",
     "output_type": "stream",
     "text": [
      "Users to drop: 530\n"
     ]
    }
   ],
   "source": [
    "drop = subset_df[(subset_df.in_collection == 'none') & (subset_df.in_wantlist == 'none')].index\n",
    "print(f'Users to drop: {len(drop)}')"
   ]
  },
  {
   "cell_type": "code",
   "execution_count": 11,
   "metadata": {
    "ExecuteTime": {
     "end_time": "2020-01-21T15:41:16.552035Z",
     "start_time": "2020-01-21T15:41:16.533119Z"
    }
   },
   "outputs": [
    {
     "name": "stdout",
     "output_type": "stream",
     "text": [
      "Total users with either collections or wantlist: 1466\n"
     ]
    },
    {
     "data": {
      "text/html": [
       "<div>\n",
       "<style scoped>\n",
       "    .dataframe tbody tr th:only-of-type {\n",
       "        vertical-align: middle;\n",
       "    }\n",
       "\n",
       "    .dataframe tbody tr th {\n",
       "        vertical-align: top;\n",
       "    }\n",
       "\n",
       "    .dataframe thead th {\n",
       "        text-align: right;\n",
       "    }\n",
       "</style>\n",
       "<table border=\"1\" class=\"dataframe\">\n",
       "  <thead>\n",
       "    <tr style=\"text-align: right;\">\n",
       "      <th></th>\n",
       "      <th>username</th>\n",
       "      <th>in_collection</th>\n",
       "      <th>in_wantlist</th>\n",
       "    </tr>\n",
       "  </thead>\n",
       "  <tbody>\n",
       "    <tr>\n",
       "      <th>0</th>\n",
       "      <td>44Records</td>\n",
       "      <td>/user/44Records/collection?header=1</td>\n",
       "      <td>/wantlist?user=44Records</td>\n",
       "    </tr>\n",
       "    <tr>\n",
       "      <th>1</th>\n",
       "      <td>-DoNkEy-</td>\n",
       "      <td>/user/-DoNkEy-/collection?header=1</td>\n",
       "      <td>/wantlist?user=-DoNkEy-</td>\n",
       "    </tr>\n",
       "    <tr>\n",
       "      <th>3</th>\n",
       "      <td>cranialitysounds</td>\n",
       "      <td>/user/cranialitysounds/collection?header=1</td>\n",
       "      <td>none</td>\n",
       "    </tr>\n",
       "  </tbody>\n",
       "</table>\n",
       "</div>"
      ],
      "text/plain": [
       "           username                               in_collection  \\\n",
       "0         44Records         /user/44Records/collection?header=1   \n",
       "1          -DoNkEy-          /user/-DoNkEy-/collection?header=1   \n",
       "3  cranialitysounds  /user/cranialitysounds/collection?header=1   \n",
       "\n",
       "                in_wantlist  \n",
       "0  /wantlist?user=44Records  \n",
       "1   /wantlist?user=-DoNkEy-  \n",
       "3                      none  "
      ]
     },
     "execution_count": 11,
     "metadata": {},
     "output_type": "execute_result"
    }
   ],
   "source": [
    "subset_df.drop(labels=list(drop), axis='index', inplace=True)\n",
    "print(f'Total users with either collections or wantlist: {subset_df.shape[0]}')\n",
    "subset_users = subset_df[['username', 'in_collection', 'in_wantlist']]\n",
    "subset_users.head(3)"
   ]
  },
  {
   "cell_type": "markdown",
   "metadata": {},
   "source": [
    "### Concat lists and export"
   ]
  },
  {
   "cell_type": "code",
   "execution_count": 12,
   "metadata": {
    "ExecuteTime": {
     "end_time": "2020-01-21T15:41:21.059960Z",
     "start_time": "2020-01-21T15:41:21.048083Z"
    }
   },
   "outputs": [
    {
     "data": {
      "text/plain": [
       "11768"
      ]
     },
     "execution_count": 12,
     "metadata": {},
     "output_type": "execute_result"
    }
   ],
   "source": [
    "final_users = pd.concat([minimal_users, selected_groups_users, subset_users], axis=0)\n",
    "final_users.shape[0]"
   ]
  },
  {
   "cell_type": "code",
   "execution_count": 13,
   "metadata": {
    "ExecuteTime": {
     "end_time": "2020-01-21T15:41:22.349320Z",
     "start_time": "2020-01-21T15:41:22.324736Z"
    }
   },
   "outputs": [
    {
     "data": {
      "text/plain": [
       "1625"
      ]
     },
     "execution_count": 13,
     "metadata": {},
     "output_type": "execute_result"
    }
   ],
   "source": [
    "final_users.duplicated().sum()"
   ]
  },
  {
   "cell_type": "code",
   "execution_count": 14,
   "metadata": {
    "ExecuteTime": {
     "end_time": "2020-01-21T15:41:24.534322Z",
     "start_time": "2020-01-21T15:41:24.509709Z"
    }
   },
   "outputs": [],
   "source": [
    "final_users.drop_duplicates(inplace=True)"
   ]
  },
  {
   "cell_type": "code",
   "execution_count": 15,
   "metadata": {
    "ExecuteTime": {
     "end_time": "2020-01-21T15:41:25.765502Z",
     "start_time": "2020-01-21T15:41:25.755618Z"
    }
   },
   "outputs": [
    {
     "data": {
      "text/plain": [
       "10143"
      ]
     },
     "execution_count": 15,
     "metadata": {},
     "output_type": "execute_result"
    }
   ],
   "source": [
    "final_users.shape[0]"
   ]
  },
  {
   "cell_type": "code",
   "execution_count": 16,
   "metadata": {
    "ExecuteTime": {
     "end_time": "2020-01-21T15:41:28.170923Z",
     "start_time": "2020-01-21T15:41:28.103127Z"
    }
   },
   "outputs": [],
   "source": [
    "final_users.to_csv('final_users.csv', index=False)"
   ]
  },
  {
   "cell_type": "code",
   "execution_count": null,
   "metadata": {},
   "outputs": [],
   "source": []
  }
 ],
 "metadata": {
  "kernelspec": {
   "display_name": "Python 3",
   "language": "python",
   "name": "python3"
  },
  "language_info": {
   "codemirror_mode": {
    "name": "ipython",
    "version": 3
   },
   "file_extension": ".py",
   "mimetype": "text/x-python",
   "name": "python",
   "nbconvert_exporter": "python",
   "pygments_lexer": "ipython3",
   "version": "3.7.5"
  },
  "varInspector": {
   "cols": {
    "lenName": 16,
    "lenType": 16,
    "lenVar": 40
   },
   "kernels_config": {
    "python": {
     "delete_cmd_postfix": "",
     "delete_cmd_prefix": "del ",
     "library": "var_list.py",
     "varRefreshCmd": "print(var_dic_list())"
    },
    "r": {
     "delete_cmd_postfix": ") ",
     "delete_cmd_prefix": "rm(",
     "library": "var_list.r",
     "varRefreshCmd": "cat(var_dic_list()) "
    }
   },
   "types_to_exclude": [
    "module",
    "function",
    "builtin_function_or_method",
    "instance",
    "_Feature"
   ],
   "window_display": false
  }
 },
 "nbformat": 4,
 "nbformat_minor": 2
}
